{
 "cells": [
  {
   "cell_type": "code",
   "execution_count": 3,
   "metadata": {},
   "outputs": [],
   "source": [
    "import pandas as pd\n",
    "from IPython.display import display\n",
    "import ydata_profiling\n",
    "\n",
    "scalar_dataset = pd.read_csv('./samples/scalar_sample.csv')\n",
    "periodic_dataset = pd.read_csv('./samples/periodic_sample.csv')\n",
    "\n",
    "\n",
    "\n"
   ]
  },
  {
   "cell_type": "code",
   "execution_count": 10,
   "metadata": {},
   "outputs": [
    {
     "name": "stderr",
     "output_type": "stream",
     "text": [
      "Summarize dataset: 100%|██████████| 53/53 [00:00<00:00, 132.31it/s, Completed]                                                   \n",
      "Generate report structure: 100%|██████████| 1/1 [00:03<00:00,  3.74s/it]\n",
      "Render HTML: 100%|██████████| 1/1 [00:00<00:00,  2.62it/s]\n",
      "Export report to file: 100%|██████████| 1/1 [00:00<00:00, 257.79it/s]\n",
      "Export report to file: 100%|██████████| 1/1 [00:00<00:00, 386.07it/s]\n"
     ]
    }
   ],
   "source": [
    "\n",
    "report1 = ydata_profiling.ProfileReport(\n",
    "    scalar_dataset,\n",
    "    minimal=True,\n",
    "    title=\"Scalar Table Completeness Profiling\",\n",
    "    dataset = {\n",
    "        \"description\": \"This profiling report was generated using a sample of 7272 rows from the Scalar Data Table. It serves to highlight columns that have high numbers of missing values, or columns where low cardinality suggests that fields may need to be validated against other data sources.\",\n",
    "    }\n",
    ")\n",
    "report1.to_file(\"./reports/scalar_table_completeness.html\")\n",
    "\n",
    "report2 = ydata_profiling.ProfileReport(\n",
    "    periodic_dataset,\n",
    "    minimal=True,\n",
    "    title=\"Scalar Table Completeness Profiling\",\n",
    "    dataset = {\n",
    "        \"description\": \"This profiling report was generated using a sample of 7272 rows from the Periodic Data Table. It serves to highlight columns that have high numbers of missing values, or columns where low cardinality suggests that fields may need to be validated against other data sources.\",\n",
    "    }    \n",
    ")\n",
    "report1.to_file(\"./reports/periodic_table_completeness.html\")\n",
    "\n"
   ]
  },
  {
   "cell_type": "code",
   "execution_count": null,
   "metadata": {},
   "outputs": [],
   "source": []
  }
 ],
 "metadata": {
  "kernelspec": {
   "display_name": "venv",
   "language": "python",
   "name": "python3"
  },
  "language_info": {
   "codemirror_mode": {
    "name": "ipython",
    "version": 3
   },
   "file_extension": ".py",
   "mimetype": "text/x-python",
   "name": "python",
   "nbconvert_exporter": "python",
   "pygments_lexer": "ipython3",
   "version": "3.10.10"
  },
  "orig_nbformat": 4,
  "vscode": {
   "interpreter": {
    "hash": "fbfdf1e346e97f18a426ed870cae9f9211480c8dab8b4bfd2e983c9132fd6b49"
   }
  }
 },
 "nbformat": 4,
 "nbformat_minor": 2
}
