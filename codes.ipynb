{
 "cells": [
  {
   "cell_type": "code",
   "execution_count": 9,
   "metadata": {},
   "outputs": [],
   "source": [
    "import pandas as pd\n",
    "\n",
    "df = pd.read_csv(\"./samples/scalar_sample.csv\")\n",
    "\n",
    "df1 = pd.DataFrame({\"Codes\": list(set(df[\"Well_Meta_PortfolioOptionDescription\"]))})\n",
    "\n",
    "df1.to_csv(\"./Well_Meta_PortfolioOptionDescription.csv\")"
   ]
  },
  {
   "cell_type": "code",
   "execution_count": null,
   "metadata": {},
   "outputs": [],
   "source": []
  }
 ],
 "metadata": {
  "kernelspec": {
   "display_name": "venv",
   "language": "python",
   "name": "python3"
  },
  "language_info": {
   "codemirror_mode": {
    "name": "ipython",
    "version": 3
   },
   "file_extension": ".py",
   "mimetype": "text/x-python",
   "name": "python",
   "nbconvert_exporter": "python",
   "pygments_lexer": "ipython3",
   "version": "3.10.10"
  },
  "orig_nbformat": 4,
  "vscode": {
   "interpreter": {
    "hash": "fbfdf1e346e97f18a426ed870cae9f9211480c8dab8b4bfd2e983c9132fd6b49"
   }
  }
 },
 "nbformat": 4,
 "nbformat_minor": 2
}
